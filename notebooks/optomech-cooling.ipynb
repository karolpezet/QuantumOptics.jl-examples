{
 "cells": [
  {
   "cell_type": "markdown",
   "metadata": {},
   "source": [
    "*This notebook can be found on* [github](https://github.com/qojulia/QuantumOptics.jl-examples/tree/master/notebooks/optomech-cooling.ipynb)\n",
    "\n",
    "# Optomechanical Cavity\n",
    "\n",
    "[Cavity optomechanics](https://en.wikipedia.org/wiki/Cavity_optomechanics) describes quantum interactions between light and mechanical objects. The simplest system is modeled as an optical resonator, where one mirror is suspended by a spring. In this model the mechanical harmonic oscillation couples with the optical cavity intensity.\n",
    "\n",
    "Such a system is described by the Hamiltonian (for simplicity $\\hbar = 1$ is chosen):\n",
    "\n",
    "$$H = -\\Delta a^\\dagger a + \\omega_m b^\\dagger b - g (b^\\dagger + b)a^\\dagger a + \\eta (a + a^\\dagger)$$\n",
    "\n",
    "where the constants are\n",
    "* $\\omega_m$ is the frequency of the mechanical oscillator,\n",
    "* $\\Delta = \\omega_L - \\omega_c$ is the frequency by which the pump laser is detuned from the cavity frequency,\n",
    "* $g$ is the coupling constant of the cavity with the oscillator and\n",
    "* $\\eta$ is the pump strength.\n",
    "\n",
    "\n",
    "In such a system we can cool the mechanical oscillator by red-shifting the laser by $\\omega_m$ relative to the cavity frequency. To simulate this behavior the needed libraries have to be imported first."
   ]
  },
  {
   "cell_type": "code",
   "execution_count": null,
   "metadata": {},
   "outputs": [],
   "source": [
    "using QuantumOptics\n",
    "using PyPlot;"
   ]
  },
  {
   "cell_type": "markdown",
   "metadata": {},
   "source": [
    "Then all the needed constants are defined"
   ]
  },
  {
   "cell_type": "code",
   "execution_count": null,
   "metadata": {},
   "outputs": [],
   "source": [
    "# Parameters\n",
    "ω_mech = 10.\n",
    "Δ = -ω_mech\n",
    "\n",
    "# Constants\n",
    "g = 1.\n",
    "η = 2.\n",
    "κ = 1.;"
   ]
  },
  {
   "cell_type": "markdown",
   "metadata": {},
   "source": [
    "Here $\\kappa$ is the photon decay rate of the cavity.\n",
    "\n",
    "It is useful to write the system basis as pairs of coupled Fockstates $| n\\rangle \\otimes |m\\rangle$, where the first is the state of the cavity and the second is the state of the oscillator. For this we define the basis for each and also define their ladder operators."
   ]
  },
  {
   "cell_type": "code",
   "execution_count": null,
   "metadata": {},
   "outputs": [],
   "source": [
    "# Basis\n",
    "b_cav = FockBasis(4)\n",
    "b_mech = FockBasis(10)\n",
    "\n",
    "# Operators Cavity\n",
    "a = destroy(b_cav) ⊗ one(b_mech)\n",
    "at = create(b_cav) ⊗ one(b_mech)\n",
    "\n",
    "# Operators Oscillator\n",
    "b = one(b_cav) ⊗ destroy(b_mech)\n",
    "bt = one(b_cav) ⊗ create(b_mech);"
   ]
  },
  {
   "cell_type": "markdown",
   "metadata": {},
   "source": [
    "Using the above operators and parameters the Hamilton operator for the system can be defined as follows:"
   ]
  },
  {
   "cell_type": "code",
   "execution_count": null,
   "metadata": {},
   "outputs": [],
   "source": [
    "# Hamilton operator\n",
    "H_cav = -Δ*at*a + η*(a + at)\n",
    "H_mech = ω_mech*bt*b\n",
    "H_int = -g*(bt+b)*at*a\n",
    "\n",
    "H = H_cav + H_mech + H_int;"
   ]
  },
  {
   "cell_type": "markdown",
   "metadata": {},
   "source": [
    "Since we also want to model photon decay in the cavity we can define the needed jump operator and associated rates. We also define the initial state to be $|\\psi_0\\rangle = |0\\rangle \\otimes | 2\\rangle$"
   ]
  },
  {
   "cell_type": "code",
   "execution_count": null,
   "metadata": {},
   "outputs": [],
   "source": [
    "J     = [a]\n",
    "rates = [κ]\n",
    "\n",
    "ψ0 = fockstate(b_cav,0) ⊗ fockstate(b_mech,2);"
   ]
  },
  {
   "cell_type": "markdown",
   "metadata": {},
   "source": [
    "Given all the above the system is fully specified, and the master equation can be solved."
   ]
  },
  {
   "cell_type": "code",
   "execution_count": null,
   "metadata": {},
   "outputs": [],
   "source": [
    "T = [0:0.2:50;]\n",
    "tout, ρt = timeevolution.master(T,ψ0,H,J;rates=rates);"
   ]
  },
  {
   "cell_type": "markdown",
   "metadata": {},
   "source": [
    "To see the cooling behavior mentioned above we need to look at the expected phonon number of the oscillator over time. This can be easily plotted using the following. "
   ]
  },
  {
   "cell_type": "code",
   "execution_count": null,
   "metadata": {},
   "outputs": [],
   "source": [
    "figure(figsize=(9, 3))\n",
    "\n",
    "subplot(1, 2, 1)\n",
    "title(\"Mechanical Oscillator\")\n",
    "plot(T, real(expect(bt*b, ρt)))\n",
    "xlabel(L\"t \\kappa\")\n",
    "ylabel(L\"\\langle n_m \\rangle\")\n",
    "\n",
    "subplot(1, 2, 2)\n",
    "title(\"Cavity\")\n",
    "plot(T, real(expect(at*a, ρt)))\n",
    "xlabel(L\"t \\kappa\")\n",
    "ylabel(L\"\\langle n_{c} \\rangle\")\n",
    "\n",
    "tight_layout()"
   ]
  },
  {
   "cell_type": "markdown",
   "metadata": {},
   "source": [
    "As expected optomechanical cooling yields an exponential decay of the expected phonon number in the mechanical oscillator. The small oscillations of the cavity curve exhibit the same period as the mechanical oscillator.\n",
    "\n",
    "To calculate the final expected phonon and photon number directly, we can look at the steady state of the system."
   ]
  },
  {
   "cell_type": "code",
   "execution_count": null,
   "metadata": {
    "scrolled": true
   },
   "outputs": [],
   "source": [
    "ρ_end = steadystate.eigenvector(H,sqrt.(rates).*J;which=:SM)\n",
    "\n",
    "println(\"⟨n_m⟩ = \", real(expect(bt*b,ρ_end)))\n",
    "println(\"⟨n_c⟩ = \", real(expect(at*a,ρ_end)))"
   ]
  },
  {
   "cell_type": "markdown",
   "metadata": {},
   "source": [
    "**Remark**: If `H` and `J` are sparse, then the function used to diagonalize the Lindblad term is Julia's `eigs`. While this algorithm is efficient, it can produce misleading results or even fail depending on the options that are set. The `steadystate.eigenvector` function tries to ensure that only fully correct results are produced, throwing an error otherwise. This is why above (and in the following) we set the `eigs` keyword argument `which=:SM`. The values of `which` and other kwargs (such as `nev`) may have to be changed depending on the given problem. For all options, see [Julia's documentation](https://docs.julialang.org/en/v0.6.2/stdlib/linalg/#Base.LinAlg.eigs-Tuple{Any})."
   ]
  },
  {
   "cell_type": "markdown",
   "metadata": {},
   "source": [
    "\n",
    "## System coupled to a Heat Bath\n",
    "\n",
    "The calculation up until now assumes the oscillator is thermally isolated from the environment. A more realistic setup can be simulated by coupling the mechanical oscillator to a heat bath. During the cooling process heat will therefore also flow from the heat bath to the system.\n",
    "\n",
    "A harmonic oscillator coupled to a bath can be described using the following jump operators $J$ and corresponding rates $\\gamma$:\n",
    "\n",
    "$J_{out} = b\\quad\\gamma_{out} = \\frac{c}{2}(\\bar{n}+1)$\n",
    "\n",
    "$J_{in} = b^\\dagger\\quad\\gamma_{in} = \\frac{c}{2} \\bar{n}$\n",
    "\n",
    "where $\\bar{n}$ is the mean phonon number of the heat bath and $c$ the mechanical damping rate."
   ]
  },
  {
   "cell_type": "code",
   "execution_count": null,
   "metadata": {},
   "outputs": [],
   "source": [
    "c = 0.03   # mechanical damping constant\n",
    "n =  2    # average thermal phonon number of bath.\n",
    "\n",
    "J     = [a,         b,    bt]\n",
    "rates = [κ, c/2*(n+1), c/2*n]\n",
    "\n",
    "tout, ρt_bath = timeevolution.master(T, ψ0, H, J; rates=rates);"
   ]
  },
  {
   "cell_type": "markdown",
   "metadata": {},
   "source": [
    "Using the calculated time evolution we can compare the expected phonon number over time of the thermally coupled system with the isolated one."
   ]
  },
  {
   "cell_type": "code",
   "execution_count": null,
   "metadata": {},
   "outputs": [],
   "source": [
    "figure(figsize=(6,4))\n",
    "\n",
    "plot(T, real(expect(bt*b, ρt_bath)), label=\"Heat Bath\")\n",
    "plot(T, real(expect(bt*b, ρt)),\"--\", label=\"Isolated\")\n",
    "\n",
    "xlabel(L\"t \\kappa\")\n",
    "ylabel(L\"\\langle n_m \\rangle\")\n",
    "title(\"time evolution of the mechanical phonon number \")\n",
    "\n",
    "legend();"
   ]
  },
  {
   "cell_type": "markdown",
   "metadata": {},
   "source": [
    "As expected the system, interacting with the heat bath converges to a higher phonon number. The resulting value can again be calculated using the functions from `steadystate`."
   ]
  },
  {
   "cell_type": "code",
   "execution_count": null,
   "metadata": {},
   "outputs": [],
   "source": [
    "ρ_end = steadystate.eigenvector(H, sqrt.(rates).*J;which=:SM)\n",
    "\n",
    "println(\"⟨n_m⟩ = \", real(expect(bt*b,ρ_end)))\n",
    "println(\"⟨n_c⟩ = \", real(expect(at*a,ρ_end)))"
   ]
  },
  {
   "cell_type": "markdown",
   "metadata": {},
   "source": [
    "Earlier we made the choice to cool using the laser red shifted by $\\omega_m$. This value was chosen because the strongest cooling can be achieved here. This resonance can be visualized by finding the resulting phonon number, while cooling with different frequency shifts. The result below shows an obvious resonance around $\\omega_m$. It can also be seen that the cooling depends on the pump strength $\\eta$."
   ]
  },
  {
   "cell_type": "code",
   "execution_count": null,
   "metadata": {},
   "outputs": [],
   "source": [
    "figure(figsize=(6, 4))\n",
    "\n",
    "detune = [-18:0.3:-3;]\n",
    "for η1 = [1., 2., 4., 6.]\n",
    "    n_end = []\n",
    "    for det = detune\n",
    "        H_det = -det*at*a + H_mech + H_int + η1*(a + at)\n",
    "        ρ = steadystate.eigenvector(H_det, sqrt.(rates).*J;which=:SM)\n",
    "        push!(n_end, real(expect(bt*b, ρ)))\n",
    "    end\n",
    "    \n",
    "    plot(detune./ω_mech, n_end, label=\"η = $η1\")\n",
    "end\n",
    "\n",
    "xlabel(L\"\\Delta\\ / \\omega_m\")\n",
    "ylabel(L\"\\langle n_m \\rangle\")\n",
    "title(\"final photon number of the mechanical oscillator\")\n",
    "\n",
    "legend();"
   ]
  }
 ],
 "metadata": {
  "@webio": {
   "lastCommId": null,
   "lastKernelId": null
  },
  "kernelspec": {
   "display_name": "Julia 1.3.0",
   "language": "julia",
   "name": "julia-1.3"
  },
  "language_info": {
   "file_extension": ".jl",
   "mimetype": "application/julia",
   "name": "julia",
   "version": "1.3.0"
  }
 },
 "nbformat": 4,
 "nbformat_minor": 2
}
