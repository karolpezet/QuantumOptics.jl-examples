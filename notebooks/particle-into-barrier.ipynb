{
 "cells": [
  {
   "cell_type": "markdown",
   "metadata": {},
   "source": [
    "*This notebook can be found on* [github](https://github.com/qojulia/QuantumOptics.jl-examples/tree/master/notebooks/particle-into-barrier.ipynb)\n",
    "\n",
    "# Gaussian wave packet running into a potential barrier"
   ]
  },
  {
   "cell_type": "markdown",
   "metadata": {},
   "source": [
    "In this example, we simulate the dynamics of a Gaussian wave packet that runs into a square potential barrier. In this, we make use of the FFT relations between position and momentum bases, which allows us to boost the efficiency of the calculation. To this end, the so-called Lazy operatorations (LazyProduct and LazySum) are used."
   ]
  },
  {
   "cell_type": "code",
   "execution_count": null,
   "metadata": {},
   "outputs": [],
   "source": [
    "using QuantumOptics\n",
    "using PyPlot"
   ]
  },
  {
   "cell_type": "markdown",
   "metadata": {},
   "source": [
    "First, we define a position basis and calculate the respective momentum basis by means of an FFT (numerically by simply passing the position basis as argument). The position basis is defined by its range in space."
   ]
  },
  {
   "cell_type": "code",
   "execution_count": null,
   "metadata": {},
   "outputs": [],
   "source": [
    "xmin = -30\n",
    "xmax = 30\n",
    "Npoints = 200\n",
    "\n",
    "b_position = PositionBasis(xmin, xmax, Npoints)\n",
    "b_momentum = MomentumBasis(b_position);"
   ]
  },
  {
   "cell_type": "markdown",
   "metadata": {},
   "source": [
    "Once this is done, we define a sqaure potential barrier of width $d$ and height $V_0$ in the position basis."
   ]
  },
  {
   "cell_type": "code",
   "execution_count": null,
   "metadata": {},
   "outputs": [],
   "source": [
    "V0 = 1. # Height of Barrier\n",
    "d = 5 # Width of Barrier\n",
    "function V_barrier(x)\n",
    "    if x < -d/2 || x > d/2\n",
    "        return 0.\n",
    "    else\n",
    "        return V0\n",
    "    end\n",
    "end\n",
    "V = potentialoperator(b_position, V_barrier);"
   ]
  },
  {
   "cell_type": "markdown",
   "metadata": {},
   "source": [
    "For the kinetic energy term we can exploit that it is diagonal in the momentum basis. In the time evolution we want to first transform the density operator from the position to the momentum basis, multiply it with the kinetic operator and then transform it back. This can be done by using the FFTOperator which when applied to a density operator will perform such a transformation. The LazyProduct operator makes it possible to chain these three operations together."
   ]
  },
  {
   "cell_type": "code",
   "execution_count": null,
   "metadata": {},
   "outputs": [],
   "source": [
    "Txp = transform(b_position, b_momentum)\n",
    "Tpx = transform(b_momentum, b_position)\n",
    "Hkin = LazyProduct(Txp, momentum(b_momentum)^2/2, Tpx);"
   ]
  },
  {
   "cell_type": "markdown",
   "metadata": {},
   "source": [
    "Since the kinetic energy operator is never really calculated and only its action onto a density operator is defined we also cannot directly add another operator to it. Instead we also have to delay this sum so that it is only performed indirectly when applied to a density oeprator. This can be done with the LazySum operator."
   ]
  },
  {
   "cell_type": "code",
   "execution_count": null,
   "metadata": {},
   "outputs": [],
   "source": [
    "H = LazySum(Hkin, V);"
   ]
  },
  {
   "cell_type": "markdown",
   "metadata": {},
   "source": [
    "Finally we let gaussian wave packets start on the left side of the barrier and analyze the time evolution. The offset of the packet on the y-axis here indicates the initial kinetic energy."
   ]
  },
  {
   "cell_type": "code",
   "execution_count": null,
   "metadata": {},
   "outputs": [],
   "source": [
    "xpoints = samplepoints(b_position)\n",
    "\n",
    "x0 = -15\n",
    "sigma0 = 4\n",
    "p0vec = [sqrt(0.1), 1, sqrt(2), sqrt(3), 2]\n",
    "timecuts = 20\n",
    "\n",
    "for i_p in 1:length(p0vec)\n",
    "    p0 = p0vec[i_p]\n",
    "    Ψ₀ = gaussianstate(b_position, x0, p0, sigma0)\n",
    "    scaling = 1.0/maximum(abs.(Ψ₀.data))^2/5\n",
    "    n0 = abs.(Ψ₀.data).^2 .* scaling\n",
    "\n",
    "    tmax = 2*abs(x0)/(p0+0.2)\n",
    "    T = collect(range(0.0, stop=tmax, length=timecuts))\n",
    "    tout, Ψt = timeevolution.schroedinger(T, Ψ₀, H);\n",
    "\n",
    "    offset = real.(expect(Hkin, Ψ₀))\n",
    "    plot(xpoints, n0.+offset, \"C$i_p--\")\n",
    "    for i=1:length(T)\n",
    "        Ψ = Ψt[i]\n",
    "        n = abs.(Ψ.data).^2 .* scaling\n",
    "        plot(xpoints, n.+offset, \"C$i_p\", alpha=0.3)\n",
    "    end\n",
    "    nt = abs.(Ψt[timecuts].data).^2*scaling\n",
    "    plot(xpoints, nt.+offset, \"C$i_p\")\n",
    "end\n",
    "y = V_barrier.(xpoints)\n",
    "fill_between(xpoints, 0, y, color=\"k\", alpha=0.5);\n",
    "plot(xpoints, y, \"k\")\n",
    "show()"
   ]
  }
 ],
 "metadata": {
  "kernelspec": {
   "display_name": "Julia 0.7.0-beta2",
   "language": "julia",
   "name": "julia-0.7"
  },
  "language_info": {
   "file_extension": ".jl",
   "mimetype": "application/julia",
   "name": "julia",
   "version": "0.7.0"
  }
 },
 "nbformat": 4,
 "nbformat_minor": 2
}
