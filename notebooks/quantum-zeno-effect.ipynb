{
 "cells": [
  {
   "cell_type": "markdown",
   "metadata": {},
   "source": [
    "*This notebook can be found on* [github](https://github.com/qojulia/QuantumOptics.jl-examples/tree/master/notebooks/quantum-zeno-effect.ipynb)\n",
    "\n",
    "# Quantum Zeno Effect"
   ]
  },
  {
   "cell_type": "markdown",
   "metadata": {},
   "source": [
    "In this example, we will use a stochastic master equation approach in order to describe the dynamics of an atom inside a cavity, where the cavity is subject to homodyne detection. The example was inspired by the work of Nielsen and Mølmer [1], but the setup treated here is somewhat simplified."
   ]
  },
  {
   "cell_type": "markdown",
   "metadata": {},
   "source": [
    "The physical model is as follows: a two-level atom with two states $|f\\rangle$ and $|g\\rangle$ is placed inside a cavity. However, instead of the usual Jaynes-Cummings type interaction, only the state $|f\\rangle$ interacts with the cavity. (Note, that this situation can be reached when considering a three-level atom with two ground states $|f\\rangle$ and $|g\\rangle$, where the cavity couples to the transition between $|f\\rangle$ and the excited state, but is so far detuned that the excited state may be adiabatically eliminated.) This system is described by the Hamiltonian\n",
    "\n",
    "$H_0 = g a^\\dagger a ~n$,\n",
    "\n",
    "where $n=|f\\rangle\\langle f|$. The cavity is also coherently driven through one mirror and detected at the output of the other. The coherent drive is described by the Hamiltonian\n",
    "\n",
    "$H_\\text{d} = -i\\beta\\left(a^\\dagger - a\\right),$\n",
    "\n",
    "where $\\beta$ is the amplitude of the drive. Also, the atom is coherently driven with amplitude $g_s,$\n",
    "\n",
    "$H_\\text{p} = g_s\\sum_i\\left(\\sigma_i^+ + \\sigma_i^-\\right),$\n",
    "\n",
    "The cavity decays through the other mirror at a rate $\\kappa$, which is described by the Lindblad term\n",
    "\n",
    "$\\mathcal{D}[c]\\rho = c\\rho c^\\dagger - \\frac{1}{2}\\left(c^\\dagger c\\rho - \\rho c^\\dagger c\\right),$\n",
    "\n",
    "where $c=\\sqrt{\\kappa}a$ is the collapse operator. The information gain (partial collapse of the wave function) due to the detection is described by the measurement super operator $\\mathcal{H}[c],$\n",
    "\n",
    "$\\mathcal{H}[c]\\rho = c\\rho + \\rho c^\\dagger -\\langle c + c^\\dagger\\rangle \\rho,$\n",
    "\n",
    "where the last term $\\langle c + c^\\dagger\\rangle \\rho$ ensures trace conservation.\n",
    "\n",
    "For the measurement, we set $c=\\sqrt{\\kappa_2}a$, where, realistically, $\\kappa_2 \\leq \\kappa$ and $\\kappa_2 < \\kappa$ describes detection with less than unit efficiency.\n",
    "\n",
    "The system is then described by the linear stochastic master equation\n",
    "\n",
    "$\\dot{\\rho} = -i[H,\\rho] + \\left(\\kappa\\mathcal{D}[a]\\rho + \\sqrt{\\kappa_2}\\mathcal{H}[a]\\rho \\xi(t)\\right),$\n",
    "\n",
    "where $H=H_0+H_\\text{d}+H_\\text{p}$ and $\\xi(t)$ is white noise. This equation is straightforward to implement using `stochastic.master`.\n",
    "\n",
    "For a nice and rigorous derivation and discussion of the above stochastic master equations, we refer to Ref. [2]."
   ]
  },
  {
   "cell_type": "markdown",
   "metadata": {},
   "source": [
    "We proceed as usual by loading the needed libraries, defining the parameters and the Hilbert space and the operators of the system."
   ]
  },
  {
   "cell_type": "code",
   "execution_count": null,
   "metadata": {},
   "outputs": [],
   "source": [
    "using QuantumOptics\n",
    "using PyPlot"
   ]
  },
  {
   "cell_type": "code",
   "execution_count": null,
   "metadata": {
    "collapsed": true
   },
   "outputs": [],
   "source": [
    "# Parameters\n",
    "Nc = 3\n",
    "κ = 1.0\n",
    "κ₂ = 0.3κ\n",
    "g = 0.2κ\n",
    "β = 0.2*sqrt(κ)\n",
    "gₛ = 5*1e-2κ\n",
    "T = [0:0.1:3/gₛ;]\n",
    "\n",
    "# Basis and operators\n",
    "bc = FockBasis(Nc)\n",
    "ba = SpinBasis(1//2)\n",
    "\n",
    "a = destroy(bc) ⊗ one(ba)\n",
    "ad = create(bc) ⊗ one(ba)\n",
    "σ⁺ = one(bc) ⊗ sigmap(ba)\n",
    "σ = one(bc) ⊗ sigmam(ba)\n",
    "n = σ⁺*σ;"
   ]
  },
  {
   "cell_type": "code",
   "execution_count": null,
   "metadata": {
    "collapsed": true
   },
   "outputs": [],
   "source": [
    "# Hamiltonian\n",
    "H0 = g*ad*a*n\n",
    "Hp = gₛ*(σ⁺ + σ)\n",
    "\n",
    "# Coherent drive of cavity\n",
    "Hf = -1.0im*β*(ad - a)\n",
    "\n",
    "H = H0 + Hf + Hp\n",
    "\n",
    "# Damping operators of master equation\n",
    "J = [a]\n",
    "rates = [κ];"
   ]
  },
  {
   "cell_type": "markdown",
   "metadata": {},
   "source": [
    "Now, we define the stochastic jump operators, which are to be applied as shown above for $\\mathcal{H}[c]$."
   ]
  },
  {
   "cell_type": "code",
   "execution_count": null,
   "metadata": {
    "collapsed": true
   },
   "outputs": [],
   "source": [
    "# Stochastic damping operators\n",
    "C = [sqrt(κ₂)*a];"
   ]
  },
  {
   "cell_type": "markdown",
   "metadata": {},
   "source": [
    "We initialize the atom in the state $|g\\rangle$, which corresponds to the `spindown` state and the cavity in a vacuum state."
   ]
  },
  {
   "cell_type": "code",
   "execution_count": null,
   "metadata": {
    "collapsed": true
   },
   "outputs": [],
   "source": [
    "# Initial state\n",
    "ψ0 = fockstate(bc, 0) ⊗ spindown(ba)\n",
    "ρ0 = dm(fockstate(bc, 0) ⊗ spindown(ba));"
   ]
  },
  {
   "cell_type": "markdown",
   "metadata": {},
   "source": [
    "Finally, we pass the above definitions to the stochastic master equation in order to obtain our results."
   ]
  },
  {
   "cell_type": "code",
   "execution_count": null,
   "metadata": {
    "collapsed": true
   },
   "outputs": [],
   "source": [
    "# Solve stochastic master equation\n",
    "dt = 1e-3\n",
    "tout, ρt = stochastic.master(T, ρ0, H, J, C; rates=rates, dt=dt);"
   ]
  },
  {
   "cell_type": "markdown",
   "metadata": {},
   "source": [
    "In addition, we calculate the same time evolution once more, but with a unit efficiency detector and a reduced pump strength $g_s$."
   ]
  },
  {
   "cell_type": "code",
   "execution_count": null,
   "metadata": {
    "collapsed": true
   },
   "outputs": [],
   "source": [
    "C_zeno = [sqrt(κ)*a]\n",
    "gₛ_zeno = 1e-3κ\n",
    "Hp_zeno = gₛ_zeno*(σ⁺ + σ)\n",
    "H_zeno = H0 + Hf + Hp_zeno\n",
    "T_zeno = [0:1:3/gₛ_zeno;]\n",
    "\n",
    "tout_zeno, ρt_zeno = stochastic.master(T_zeno, ρ0, H_zeno, J, C_zeno; rates=rates, dt=dt);"
   ]
  },
  {
   "cell_type": "markdown",
   "metadata": {},
   "source": [
    "As reference, we also calculate the time evolution where the coupling to the cavity is zero, i.e. the atoms will simply oscillate between $|f\\rangle$ and $|g\\rangle$."
   ]
  },
  {
   "cell_type": "code",
   "execution_count": null,
   "metadata": {
    "collapsed": true
   },
   "outputs": [],
   "source": [
    "# Compute time evolution with no coupling to the cavity\n",
    "tout2, ρt_det = timeevolution.master(T, ρ0, H - g*ad*a*n, J; rates=rates);"
   ]
  },
  {
   "cell_type": "code",
   "execution_count": null,
   "metadata": {
    "scrolled": true
   },
   "outputs": [],
   "source": [
    "# Calculate expectation value of atoms in |f>\n",
    "proj = one(bc) ⊗ dm(spindown(ba))\n",
    "p0 = real(expect(proj, ρt))\n",
    "p0_zeno = real(expect(proj, ρt_zeno))\n",
    "p0_det = real(expect(proj, ρt_det))\n",
    "\n",
    "figure(figsize=(8, 3))\n",
    "plot(tout.*gₛ, p0, label=\"Low Zeno\")\n",
    "plot(tout_zeno.*gₛ_zeno, p0_zeno, label=\"High Zeno\")\n",
    "plot(tout2.*gₛ, p0_det, ls=\"dashed\", label=\"No Zeno\")\n",
    "axis([0, T[end]*gₛ, 0, 1.1])\n",
    "xlabel(L\"$g_s t$\")\n",
    "ylabel(L\"$\\langle 0|\\rho|0\\rangle$\")\n",
    "legend();"
   ]
  },
  {
   "cell_type": "markdown",
   "metadata": {},
   "source": [
    "We can clearly see, that while the unperturbed atom undergoes a full Rabi cycle from $|f\\rangle$ to $|g\\rangle$ and back, that as soon as the system is subject to measurement noise, transitions of the atom are somewhat inhibited. If the collapse due to the measurement is very large, then the probability almost vanishes. This is called the Quantum Zeno effect."
   ]
  },
  {
   "cell_type": "markdown",
   "metadata": {},
   "source": [
    "\n",
    "\n",
    "**References**\n",
    "\n",
    "[1] Nielsen, A. E. B. and Mølmer, K. *Stochastic master equation for a probed system in a cavity*, Phys. Rev. A 77, 052111, (2008). URL: [https://arxiv.org/abs/0802.1225](https://arxiv.org/abs/0802.1225)\n",
    "\n",
    "[2] Jacobs, K. and Steck, D. A. *A straighforward introduction to continuous quantum measurements*, Contemporary Physics, 47:5, 279-303, (2006). URL: [https://arxiv.org/abs/quant-ph/0611067](https://arxiv.org/abs/quant-ph/0611067)"
   ]
  }
 ],
 "metadata": {
  "kernelspec": {
   "display_name": "Julia 0.6.2",
   "language": "julia",
   "name": "julia-0.6"
  },
  "language_info": {
   "file_extension": ".jl",
   "mimetype": "application/julia",
   "name": "julia",
   "version": "0.6.3"
  }
 },
 "nbformat": 4,
 "nbformat_minor": 2
}
