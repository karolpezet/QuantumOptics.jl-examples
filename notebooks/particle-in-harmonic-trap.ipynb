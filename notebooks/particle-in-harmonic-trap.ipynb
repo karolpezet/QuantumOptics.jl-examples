{
 "cells": [
  {
   "cell_type": "markdown",
   "metadata": {},
   "source": [
    "*This notebook can be found on* [github](https://github.com/qojulia/QuantumOptics.jl-examples/tree/master/notebooks/particle-in-harmonic-trap.ipynb)\n",
    "\n",
    "# Particle in harmonic trap potential"
   ]
  },
  {
   "cell_type": "markdown",
   "metadata": {},
   "source": [
    "A particle in a harmonic trap is described by a Hamiltonian of the form\n",
    "$$\n",
    "    H = \\frac{\\hat{p}^2}{2m} + \\frac{1}{2}m \\omega^2 \\hat{x}^2\n",
    "$$\n",
    "\n",
    "For numerical simulations we are forced to work in a basis. For particles there are two common choices. We can either work in real space or alternatively in momentum space."
   ]
  },
  {
   "cell_type": "code",
   "execution_count": null,
   "metadata": {},
   "outputs": [],
   "source": [
    "using QuantumOptics\n",
    "using PyPlot"
   ]
  },
  {
   "cell_type": "code",
   "execution_count": null,
   "metadata": {},
   "outputs": [],
   "source": [
    "# System Parameters\n",
    "m = 1.\n",
    "ω = 0.5 # Strength of trapping potential;"
   ]
  },
  {
   "cell_type": "markdown",
   "metadata": {},
   "source": [
    "The position basis is simply defined by the range of positions it spans by defining a minimal position ($x_\\min$) and a maximal one ($x_\\max$), respectively. The amount of points in position we account for, which ultimately governs the dimension of the basis, is given by Npoints."
   ]
  },
  {
   "cell_type": "code",
   "execution_count": null,
   "metadata": {},
   "outputs": [],
   "source": [
    "# Position Basis\n",
    "xmin = -5\n",
    "xmax = 5\n",
    "Npoints = 100\n",
    "b_position = PositionBasis(xmin, xmax, Npoints)\n",
    "\n",
    "# Hamiltonian in real space basis\n",
    "p = momentum(b_position) # Dense operator\n",
    "x = position(b_position) # Sparse operator\n",
    "\n",
    "H = p^2/2m + 1/2*m*ω^2*dense(x^2);"
   ]
  },
  {
   "cell_type": "markdown",
   "metadata": {},
   "source": [
    "Of course we could also choose to work in momentum space:\n",
    "\n",
    "From a PositionBasis **QuantumOptics.jl** can automatically infer the corresponding MomentumBasis by calculating $p_\\mathrm{min} = -\\pi/dx$ and $p_\\mathrm{max} = \\pi/dx$ where $dx = (x_\\mathrm{max} - x_\\mathrm{min})/N$"
   ]
  },
  {
   "cell_type": "code",
   "execution_count": null,
   "metadata": {},
   "outputs": [],
   "source": [
    "b_momentum = MomentumBasis(b_position);\n",
    "\n",
    "# Hamiltonian\n",
    "p = momentum(b_momentum) # Sparse operator\n",
    "x = position(b_momentum) # Dense operator\n",
    "\n",
    "H = dense(p^2)/2m + 1/2*m*ω^2*x^2;"
   ]
  },
  {
   "cell_type": "markdown",
   "metadata": {},
   "source": [
    "However, both choices are not optimal since in real space the position operator is diagonal while the momentum operator is a completely dense matrix and vice versa for the momentum space. Therefore, the calculation will scale with $N^2$ where $N$ is the dimension of the Hilbert space. A commonly used trick is to utilize fast Fourier transformation to convert the state of the system between real and momentum space. This allows us to always use the diagonal form of the operators which all in all speeds up the calculations to $N \\log N$.\n",
    "\n",
    "This idea is implemented by the FFTOperator which performs a fast Fourier transformation on the multiplied state."
   ]
  },
  {
   "cell_type": "code",
   "execution_count": null,
   "metadata": {},
   "outputs": [],
   "source": [
    "# Transforms a state multiplied from the right side from real space\n",
    "# to momentum space.\n",
    "T_px = transform(b_momentum, b_position);"
   ]
  },
  {
   "cell_type": "markdown",
   "metadata": {},
   "source": [
    "To use this operator in a Hamiltonian we additionally need the concept of lazy operators which allow us to delay certain operations to a later point in the simulation. E.g. the LazyProduct allows us to do $A*(B*x)$ instead of $(A*B)*x$ which means for our case that the matrix-matrix product never has to be calculated directly but only two matrix-vector multiplications instead."
   ]
  },
  {
   "cell_type": "code",
   "execution_count": null,
   "metadata": {},
   "outputs": [],
   "source": [
    "T_xp = dagger(T_px)\n",
    "\n",
    "x = position(b_position)\n",
    "p = momentum(b_momentum)\n",
    "\n",
    "H_kin = LazyProduct(T_xp, p^2/2m, T_px)\n",
    "V = ω*x^2\n",
    "H = LazySum(H_kin, V);"
   ]
  },
  {
   "cell_type": "markdown",
   "metadata": {},
   "source": [
    "Finally we can simulate the time evolution according to a Schroedinger equation."
   ]
  },
  {
   "cell_type": "code",
   "execution_count": null,
   "metadata": {},
   "outputs": [],
   "source": [
    "# Initial state\n",
    "x0 = 1.5\n",
    "p0 = 0\n",
    "sigma0 = 0.6\n",
    "Ψ0 = gaussianstate(b_position, x0, p0, sigma0);\n",
    "\n",
    "# Time evolution\n",
    "T = [0:0.1:3;]\n",
    "tout, Ψt = timeevolution.schroedinger(T, Ψ0, H);\n",
    "\n",
    "# Plot dynamics of particle density\n",
    "x_points = samplepoints(b_position)\n",
    "\n",
    "n = abs.(Ψ0.data).^2\n",
    "V = ω*x_points.^2\n",
    "C = maximum(V)/maximum(n)\n",
    "\n",
    "figure(figsize=(6,3))\n",
    "xlabel(L\"x\")\n",
    "ylabel(L\"| \\Psi(t) |^2\")\n",
    "plot(x_points, (V.-3)./C, \"k--\")\n",
    "\n",
    "for i=1:length(T)\n",
    "    Ψ = Ψt[i]\n",
    "    n .= abs.(Ψ.data).^2\n",
    "    plot(x_points, n, \"C0\", alpha=0.9*(float(i)/length(T))^8+0.1)\n",
    "end\n",
    "show()"
   ]
  }
 ],
 "metadata": {
  "@webio": {
   "lastCommId": null,
   "lastKernelId": null
  },
  "kernelspec": {
   "display_name": "Julia 1.2.0",
   "language": "julia",
   "name": "julia-1.2"
  },
  "language_info": {
   "file_extension": ".jl",
   "mimetype": "application/julia",
   "name": "julia",
   "version": "1.2.0"
  }
 },
 "nbformat": 4,
 "nbformat_minor": 1
}
