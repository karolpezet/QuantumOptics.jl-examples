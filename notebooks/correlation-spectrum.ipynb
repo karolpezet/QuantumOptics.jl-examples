{
 "cells": [
  {
   "cell_type": "markdown",
   "metadata": {},
   "source": [
    "*This notebook can be found on* [github](https://github.com/qojulia/QuantumOptics.jl-examples/tree/master/notebooks/correlation-spectrum.ipynb)\n",
    "\n",
    "# Two-time correlation function and spectrum of a Fock state"
   ]
  },
  {
   "cell_type": "markdown",
   "metadata": {},
   "source": [
    "Consider a Fock state of $n$ photons inside a damped cavity, that undergoes the free dynamics. The Hamiltonian is\n",
    "\n",
    "$H = -\\Delta a^\\dagger a$,\n",
    "\n",
    "while the damping is described by the Lindblad term\n",
    "\n",
    "$\\mathcal{L}[\\rho] = \\kappa\\left(2a\\rho a^\\dagger - a^\\dagger a \\rho - \\rho a^\\dagger a\\right)$.\n",
    "\n",
    "Here, the detuning $\\Delta = \\omega_\\mathrm{r} - \\omega_\\mathrm{c}$ is the detuning between the cavity frequency $\\omega_\\mathrm{c}$ with respect to some reference frequency $\\omega_\\mathrm{r}$.\n",
    "We chose this simple example, since it can be solved analytically. We do this by writing down the Quantum Langevin equation for the operator $a$,\n",
    "\n",
    "$\\dot{a} = \\left(i\\Delta - \\kappa\\right)a + \\sqrt{2\\kappa}a_{\\rm in}(t)$.\n",
    "\n",
    "Here $a_{\\rm in}$ is the input noise operator. The two-time correlation function is defined by\n",
    "\n",
    "$g(t,\\tau) = \\langle a^\\dagger(t+\\tau)a(t)\\rangle$.\n",
    "\n",
    "In the following we choose $t=0$ and use the short-hand notation $g(\\tau)\\equiv g(0,\\tau)$. Taking the derivative with respect to $\\tau$, we find\n",
    "\n",
    "$\\partial_\\tau g(\\tau) = \\langle \\dot{a}^\\dagger(\\tau) a(0)\\rangle = \\left(i\\Delta - \\kappa\\right) g(\\tau)$,\n",
    "\n",
    "where we used $\\langle a_{\\rm in}^\\dagger(t) a\\rangle = 0$. The equation above is a simple differential equation which has the solution\n",
    "\n",
    "$g(\\tau) = g(0) e^{-i\\Delta\\tau}e^{-\\kappa\\tau} = n e^{-i\\Delta\\tau}e^{-\\kappa\\tau}$,\n",
    "\n",
    "where $n$ is the photon number of the initial state.\n",
    "\n",
    "Therefore, we find by the Wiener-Khinchin theorem that the spectrum is\n",
    "\n",
    "$S(\\omega) = 2\\Re\\left\\{\\int_0^{\\infty} d\\tau e^{-i\\omega\\tau}g(\\tau) \\right\\} = 2\\Re\\left\\{\\frac{n\\left(-i(\\omega + \\Delta) + \\kappa\\right)}{\\left(\\omega + \\Delta\\right)^2 + \\kappa^2}\\right\\} = \\frac{2n\\kappa}{(\\omega + \\Delta)^2 + \\kappa^2}$.\n",
    "\n",
    "In the following program, we check this result with the implemented functions in the module timecorrelations.jl"
   ]
  },
  {
   "cell_type": "markdown",
   "metadata": {},
   "source": [
    "As usual, we start by including the libraries we require. In order to save us some code typing, we substitute the functions from the timecorrelations module."
   ]
  },
  {
   "cell_type": "code",
   "execution_count": null,
   "metadata": {
    "collapsed": true
   },
   "outputs": [],
   "source": [
    "using QuantumOptics\n",
    "using PyPlot"
   ]
  },
  {
   "cell_type": "markdown",
   "metadata": {},
   "source": [
    "Next, we define the necessary parameters. In this example, we use a Fock state containing $n=4$ photons."
   ]
  },
  {
   "cell_type": "code",
   "execution_count": null,
   "metadata": {
    "collapsed": true
   },
   "outputs": [],
   "source": [
    "Nc = 10\n",
    "κ = 1.0\n",
    "n = 4\n",
    "Δ = 5.0κ;"
   ]
  },
  {
   "cell_type": "markdown",
   "metadata": {},
   "source": [
    "After defining our basis and the annihilation operator $a$, we can write down the Hamiltonian and the jump operators."
   ]
  },
  {
   "cell_type": "code",
   "execution_count": null,
   "metadata": {
    "collapsed": true
   },
   "outputs": [],
   "source": [
    "basis = FockBasis(Nc)\n",
    "\n",
    "a = destroy(basis)\n",
    "H = -Δ*dagger(a)*a\n",
    "J = [sqrt(2κ)*a];"
   ]
  },
  {
   "cell_type": "markdown",
   "metadata": {},
   "source": [
    "Defining the initial density matrix $\\rho_0$ corresponding to the $n$ photon Fock state, we can calculate the correlation function for a list of times $\\tau$. Note, that in theory, when calculating the spectrum, the integral goes to infinite times. Obviously, we require a finite time numerically, but we set it sufficiently large."
   ]
  },
  {
   "cell_type": "code",
   "execution_count": null,
   "metadata": {
    "collapsed": true
   },
   "outputs": [],
   "source": [
    "ρ₀ = fockstate(basis, n) ⊗ dagger(fockstate(basis, n))\n",
    "\n",
    "dτ = 0.05\n",
    "τmax = 1000\n",
    "τ = [0:dτ:τmax;]\n",
    "corr = timecorrelations.correlation(τ, ρ₀, H, J, dagger(a), a);"
   ]
  },
  {
   "cell_type": "markdown",
   "metadata": {},
   "source": [
    "The function timecorrelations.spectrum calculates the correlation internally by solving the corresponding time evolution. Since we already calculated the correlation, it is more efficient to use timecorrelations.correlation2spectrum, which in our shorthand notation is corr2spec. This function only performs the necessary Fourier transform."
   ]
  },
  {
   "cell_type": "code",
   "execution_count": null,
   "metadata": {
    "collapsed": true
   },
   "outputs": [],
   "source": [
    "ω, spec = timecorrelations.correlation2spectrum(τ, corr; normalize_spec=true);"
   ]
  },
  {
   "cell_type": "markdown",
   "metadata": {},
   "source": [
    "Finally, we implement the analytical results we obtained in the beginning."
   ]
  },
  {
   "cell_type": "code",
   "execution_count": null,
   "metadata": {
    "collapsed": true
   },
   "outputs": [],
   "source": [
    "corr_an = n.*exp.(-1.0im*Δ.*τ).*exp.(-κ.*τ)\n",
    "spec_an = 2n*κ./((Δ .+ ω).^2 .+ κ^2)\n",
    "spec_an ./= maximum(spec_an);"
   ]
  },
  {
   "cell_type": "code",
   "execution_count": null,
   "metadata": {
    "collapsed": true
   },
   "outputs": [],
   "source": [
    "figure(figsize=(9, 3))\n",
    "subplot(121)\n",
    "plot(ω, spec, label=\"numerical\")\n",
    "plot(ω, spec_an, ls=\"dashed\", label=\"analytical\")\n",
    "xlabel(\"freq.\")\n",
    "ylabel(\"spectrum\")\n",
    "subplot(122)\n",
    "plot(τ[1:200], real(corr[1:200]))\n",
    "plot(τ[1:200], real(corr_an[1:200]), ls=\"dashed\")\n",
    "xlabel(\"time\")\n",
    "ylabel(\"correlation\");\n",
    "show()"
   ]
  },
  {
   "cell_type": "markdown",
   "metadata": {
    "collapsed": true
   },
   "source": [
    "Note, that the discrepancy in the base line of the spectrum stems from numerical errors, namely the fact that the time- and frequency steps and also the final time are finite. Reducing $d\\tau$ and increasing $\\tau$max reduces the error."
   ]
  }
 ],
 "metadata": {
  "@webio": {
   "lastCommId": "27433DD531D344F39A3A91135E60B359",
   "lastKernelId": "cd2c89fa-3634-4564-a4dd-dfd57fc58959"
  },
  "kernelspec": {
   "display_name": "Julia 0.7.0",
   "language": "julia",
   "name": "julia-0.7"
  },
  "language_info": {
   "file_extension": ".jl",
   "mimetype": "application/julia",
   "name": "julia",
   "version": "0.7.0"
  }
 },
 "nbformat": 4,
 "nbformat_minor": 2
}
