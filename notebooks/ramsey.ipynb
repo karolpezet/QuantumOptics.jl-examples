{
 "cells": [
  {
   "cell_type": "markdown",
   "metadata": {},
   "source": [
    "*This notebook can be found on* [github](https://github.com/qojulia/QuantumOptics.jl-examples/tree/master/notebooks/ramsey.ipynb)\n",
    "\n",
    "Ramsey spectroscopy of two-level atom ensemble\n",
    "========================="
   ]
  },
  {
   "cell_type": "markdown",
   "metadata": {},
   "source": [
    "Consider an ensemble of two-level atoms (spin-1/2 particles) with transition frequency $\\omega_{a}$ subject to decay. The Hamiltonian of the system is\n",
    "\n",
    "$H_{at} = \\frac{\\Delta}{2}\\sum_i\\sigma_i^z,$\n",
    "\n",
    "where $\\Delta = \\omega_a - \\omega_l$ and $\\omega_l$ is a reference frequency.\n",
    "We describe the decay with rate $\\gamma$ via the Lindblad term\n",
    "\n",
    "$\\mathcal{L}[\\rho] = \\frac{\\gamma}{2}\\sum_i\\left(2\\sigma_i^-\\rho\\sigma_i^+ - \\sigma_i^+\\sigma_i^-\\rho - \\rho\\sigma_i^+\\sigma_i^-\\right).$\n",
    "\n",
    "Say we want to perform a Ramsey interferometry scheme on this ensemble. This is done in three stages:\n",
    "\n",
    "1) A laser pulse (laser frequency $\\omega_l$) with amplitude $\\eta$ is applied for a time $T$ such that $\\eta T=\\frac{\\pi}{4}$ ($\\pi/2$-pulse).\n",
    "\n",
    "2) The ensemble is left to evolve freely under the Hamiltonian $H_{at}$ and the Liouvillian $\\mathcal{L}[\\rho]$.\n",
    "\n",
    "3) Finally, another $\\pi/2$-pulse is applied and the total population inversion $\\sum_i\\langle\\sigma_i^z\\rangle$ is measured."
   ]
  },
  {
   "cell_type": "code",
   "execution_count": null,
   "metadata": {},
   "outputs": [],
   "source": [
    "using QuantumOptics\n",
    "using PyPlot"
   ]
  },
  {
   "cell_type": "code",
   "execution_count": null,
   "metadata": {},
   "outputs": [],
   "source": [
    "N = 2 # Atom number\n",
    "γ = 0.1 # Decay rate\n",
    "Δ = 0.05 # Detuning\n",
    "η = 15.0 # Pulse strength\n",
    "\n",
    "T = π/4η # Length for pulse\n",
    "Tsteps = 101\n",
    "Tlist = collect(range(0, stop=T, length=Tsteps))\n",
    "\n",
    "τ = γ == 0 ? 1.0 : 0.5/γ # Length of free time evolution; 1.0 if γ=0, else 0.5/γ\n",
    "τsteps = 201\n",
    "τlist = collect(range(0, stop=τ, length=τsteps))\n",
    "\n",
    "b_atom = SpinBasis(1//2)\n",
    "b_coll = tensor([b_atom for i=1:N]...);"
   ]
  },
  {
   "cell_type": "code",
   "execution_count": null,
   "metadata": {},
   "outputs": [],
   "source": [
    "# Single atom operators\n",
    "sm(i) = embed(b_coll, i, sigmam(b_atom))\n",
    "sp(i) = embed(b_coll, i, sigmap(b_atom))\n",
    "sz(i) = embed(b_coll, i, sigmaz(b_atom))\n",
    "\n",
    "# Collective operators\n",
    "Sx = 0.5*sum(sm.(1:N) + sp.(1:N))\n",
    "Sy = 0.5im*sum(sm.(1:N) - sp.(1:N))\n",
    "Sz = 0.5*sum(sz.(1:N));"
   ]
  },
  {
   "cell_type": "code",
   "execution_count": null,
   "metadata": {},
   "outputs": [],
   "source": [
    "H_at = Δ*Sz;"
   ]
  },
  {
   "cell_type": "markdown",
   "metadata": {},
   "source": [
    "The Hamiltonian of the driving laser is $H_l = \\eta\\sum_i\\left(\\sigma_i^- + \\sigma_i^+\\right)=2\\eta S_x.$"
   ]
  },
  {
   "cell_type": "code",
   "execution_count": null,
   "metadata": {},
   "outputs": [],
   "source": [
    "H_l = 2η*Sx;\n",
    "\n",
    "J = [sm(i) for i=1:N]\n",
    "rates = [γ for i=1:N];"
   ]
  },
  {
   "cell_type": "code",
   "execution_count": null,
   "metadata": {},
   "outputs": [],
   "source": [
    "ψ₀ = tensor([spindown(b_atom) for i=1:N]...);"
   ]
  },
  {
   "cell_type": "markdown",
   "metadata": {},
   "source": [
    "A convenient way to illustrate a quantum state is the so-called Bloch sphere, which can be generalized to a collection of atoms. The collective Bloch vector is defined by\n",
    "\n",
    "$\\vec{B} = \\left(\\langle S_x\\rangle, \\langle S_y\\rangle, \\langle S_z\\rangle\\right)^\\mathrm{T}$.\n",
    "\n",
    "We define a function to calculate this vector."
   ]
  },
  {
   "cell_type": "code",
   "execution_count": null,
   "metadata": {},
   "outputs": [],
   "source": [
    "bloch(ρ) = [real(expect(s, ρ)) for s=[Sx, Sy, Sz]];"
   ]
  },
  {
   "cell_type": "markdown",
   "metadata": {},
   "source": [
    "The Bloch vector of the initial state (all atoms in the ground state) then points downwards on the sphere."
   ]
  },
  {
   "cell_type": "code",
   "execution_count": null,
   "metadata": {},
   "outputs": [],
   "source": [
    "# Plot a circle with x and y labels (the Bloch sphere from different sides)\n",
    "function plot_circle(x, y)\n",
    "    ϕ = collect(range(0, stop=2π, length=201))\n",
    "    plot(cos.(ϕ), sin.(ϕ))\n",
    "    \n",
    "    # Label circle axes\n",
    "    text(0.9, 0.05, x)\n",
    "    text(0.05, 0.9, y)\n",
    "    \n",
    "    # Draw axes\n",
    "    plot([0, 0], [0, 1], \"k\", lw=0.5)\n",
    "    plot([0, 1], [0, 0], \"k\", lw=0.5)\n",
    "end;"
   ]
  },
  {
   "cell_type": "code",
   "execution_count": null,
   "metadata": {},
   "outputs": [],
   "source": [
    "bloch0 = bloch(dm(ψ₀))\n",
    "\n",
    "fig = figure(figsize=(9, 3))\n",
    "\n",
    "ax1 = subplot(131)\n",
    "plot_circle(\"x\",\"y\")\n",
    "plot([0, bloch0[1]], [0, bloch0[2]], lw=3)\n",
    "ax1.axis(\"off\")\n",
    "\n",
    "ax2 = subplot(132)\n",
    "plot_circle(\"x\", \"z\")\n",
    "plot([0, bloch0[1]], [0, bloch0[3]], lw=3)\n",
    "ax2.axis(\"off\")\n",
    "\n",
    "ax3 = subplot(133)\n",
    "plot_circle(\"y\", \"z\")\n",
    "plot([0, bloch0[2]], [0, bloch0[3]], lw=3)\n",
    "ax3.axis(\"off\")\n",
    "\n",
    "tight_layout()"
   ]
  },
  {
   "cell_type": "markdown",
   "metadata": {},
   "source": [
    "**1) First $\\pi/2$-pulse**"
   ]
  },
  {
   "cell_type": "code",
   "execution_count": null,
   "metadata": {},
   "outputs": [],
   "source": [
    "Tout, ρT = timeevolution.master(Tlist, ψ₀, H_at + H_l, J; rates=rates)\n",
    "\n",
    "inv_π2 = sum([real(expect(sz(i), ρT)) for i=1:N])\n",
    "ρπ2 = ρT[end]; # State after first π/2-pulse"
   ]
  },
  {
   "cell_type": "code",
   "execution_count": null,
   "metadata": {},
   "outputs": [],
   "source": [
    "bloch_π2 = bloch(ρπ2)\n",
    "\n",
    "fig = figure(figsize=(9, 3))\n",
    "\n",
    "ax1 = subplot(131)\n",
    "plot_circle(\"x\",\"y\")\n",
    "plot([0, bloch_π2[1]], [0, bloch_π2[2]], lw=3)\n",
    "ax1.axis(\"off\")\n",
    "\n",
    "ax2 = subplot(132)\n",
    "plot_circle(\"x\", \"z\")\n",
    "plot([0, bloch_π2[1]], [0, bloch_π2[3]], lw=3)\n",
    "ax2.axis(\"off\")\n",
    "\n",
    "ax3 = subplot(133)\n",
    "plot_circle(\"y\", \"z\")\n",
    "plot([0, bloch_π2[2]], [0, bloch_π2[3]], lw=3)\n",
    "ax3.axis(\"off\")\n",
    "\n",
    "tight_layout()"
   ]
  },
  {
   "cell_type": "markdown",
   "metadata": {},
   "source": [
    "**2) Free time evolution**"
   ]
  },
  {
   "cell_type": "code",
   "execution_count": null,
   "metadata": {},
   "outputs": [],
   "source": [
    "τout, ρτ = timeevolution.master(τlist, ρπ2, H_at, J; rates=rates);\n",
    "\n",
    "ρm = ρτ[end]; # State after free time evolution"
   ]
  },
  {
   "cell_type": "code",
   "execution_count": null,
   "metadata": {},
   "outputs": [],
   "source": [
    "bloch_m = bloch(ρm)\n",
    "\n",
    "fig = figure(figsize=(9, 3))\n",
    "\n",
    "ax1 = subplot(131)\n",
    "plot_circle(\"x\",\"y\")\n",
    "plot([0, bloch_m[1]], [0, bloch_m[2]], lw=3)\n",
    "ax1.axis(\"off\")\n",
    "\n",
    "ax2 = subplot(132)\n",
    "plot_circle(\"x\", \"z\")\n",
    "plot([0, bloch_m[1]], [0, bloch_m[3]], lw=3)\n",
    "ax2.axis(\"off\")\n",
    "\n",
    "ax3 = subplot(133)\n",
    "plot_circle(\"y\", \"z\")\n",
    "plot([0, bloch_m[2]], [0, bloch_m[3]], lw=3)\n",
    "ax3.axis(\"off\")\n",
    "\n",
    "tight_layout()"
   ]
  },
  {
   "cell_type": "markdown",
   "metadata": {},
   "source": [
    "**3) Second $\\pi$-2 pulse**"
   ]
  },
  {
   "cell_type": "code",
   "execution_count": null,
   "metadata": {},
   "outputs": [],
   "source": [
    "Tout, ρT = timeevolution.master(Tlist, ρm, H_at + H_l, J; rates=rates)\n",
    "ρπ = ρT[end]; # Final state after second π/2-pulse"
   ]
  },
  {
   "cell_type": "code",
   "execution_count": null,
   "metadata": {},
   "outputs": [],
   "source": [
    "bloch_π = bloch(ρπ)\n",
    "\n",
    "fig = figure(figsize=(9, 3))\n",
    "\n",
    "ax1 = subplot(131)\n",
    "plot_circle(\"x\",\"y\")\n",
    "plot([0, bloch_π[1]], [0, bloch_π[2]], lw=3)\n",
    "ax1.axis(\"off\")\n",
    "\n",
    "ax2 = subplot(132)\n",
    "plot_circle(\"x\", \"z\")\n",
    "plot([0, bloch_π[1]], [0, bloch_π[3]], lw=3)\n",
    "ax2.axis(\"off\")\n",
    "\n",
    "ax3 = subplot(133)\n",
    "plot_circle(\"y\", \"z\")\n",
    "plot([0, bloch_π[2]], [0, bloch_π[3]], lw=3)\n",
    "ax3.axis(\"off\")\n",
    "\n",
    "tight_layout()"
   ]
  },
  {
   "cell_type": "markdown",
   "metadata": {},
   "source": [
    "As you can see, for the chosen parameters we end up in a state near the fully inverted one, with an inversion of"
   ]
  },
  {
   "cell_type": "code",
   "execution_count": null,
   "metadata": {},
   "outputs": [],
   "source": [
    "print(bloch_π[3])"
   ]
  },
  {
   "cell_type": "markdown",
   "metadata": {},
   "source": [
    "Ramsey fringes\n",
    "============="
   ]
  },
  {
   "cell_type": "markdown",
   "metadata": {},
   "source": [
    "Now, in order to obtain the famous Ramsey fringes, we have to scan over the laser frequency, i.e. the detuning. To this end, we need to do the entire above procedure but for different detunings.\n",
    "\n",
    "Let's write a function for the above procedure but allowing for different detunings that returns the final population inversion."
   ]
  },
  {
   "cell_type": "code",
   "execution_count": null,
   "metadata": {},
   "outputs": [],
   "source": [
    "function ramsey(Δ)\n",
    "    H_at = Δ*Sz\n",
    "    Tout, ρ1 = timeevolution.master(Tlist, ψ₀, H_at + H_l, J; rates=rates) # First π/2-pulse\n",
    "    τout, ρτ = timeevolution.master(τlist, ρ1[end], H_at, J; rates=rates) # Free time evolution\n",
    "    Tout, ρ2 = timeevolution.master(Tlist, ρτ[end], H_at + H_l, J; rates=rates) # Second π/2-pulse\n",
    "    real(expect(Sz, ρ2[end])) # Return resulting final inversion\n",
    "end;"
   ]
  },
  {
   "cell_type": "code",
   "execution_count": null,
   "metadata": {},
   "outputs": [],
   "source": [
    "Δ_ls = collect(range(-80, stop=80, length=501)) # List of detunings\n",
    "\n",
    "Sz_exp = ramsey.(Δ_ls)\n",
    "\n",
    "figure(figsize=(8, 4))\n",
    "plot(Δ_ls, Sz_exp)\n",
    "ylabel(L\"$\\langle S_z\\rangle$\")\n",
    "xlabel(L\"$\\Delta$\")\n",
    "title(\"Ramsey fringes\");"
   ]
  }
 ],
 "metadata": {
  "kernelspec": {
   "display_name": "Julia 1.3.0",
   "language": "julia",
   "name": "julia-1.3"
  },
  "language_info": {
   "file_extension": ".jl",
   "mimetype": "application/julia",
   "name": "julia",
   "version": "1.3.0"
  }
 },
 "nbformat": 4,
 "nbformat_minor": 2
}
