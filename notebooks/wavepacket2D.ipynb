{
 "cells": [
  {
   "cell_type": "markdown",
   "metadata": {},
   "source": [
    "*This notebook can be found on* [github](https://github.com/qojulia/QuantumOptics.jl-examples/tree/master/notebooks/wavepacket2D.ipynb)\n",
    "\n",
    "# Dynamics of a two-dimensional wavepacket hitting a Gaussian potential"
   ]
  },
  {
   "cell_type": "code",
   "execution_count": null,
   "metadata": {},
   "outputs": [],
   "source": [
    "using QuantumOptics, PyPlot"
   ]
  },
  {
   "cell_type": "markdown",
   "metadata": {},
   "source": [
    "In this example we will show how one can evolve a wavepacket in 2 spatial dimensions. We will do that using [`tensor`](@ref) products between the two spaces. We start similarly to the 1D case, by defining a position basis and a momentum operator for each dimension."
   ]
  },
  {
   "cell_type": "code",
   "execution_count": null,
   "metadata": {},
   "outputs": [],
   "source": [
    "Npoints = 100\n",
    "Npointsy = 80\n",
    "\n",
    "xmin = -30\n",
    "xmax = 50\n",
    "b_position = PositionBasis(xmin, xmax, Npoints)\n",
    "b_momentum = MomentumBasis(b_position)\n",
    "\n",
    "ymin = -20\n",
    "ymax = 20\n",
    "b_positiony = PositionBasis(ymin, ymax, Npointsy)\n",
    "b_momentumy = MomentumBasis(b_positiony);"
   ]
  },
  {
   "cell_type": "markdown",
   "metadata": {},
   "source": [
    "The collective `FFTOperator` is defined analogously to the 1D case using the composite bases."
   ]
  },
  {
   "cell_type": "code",
   "execution_count": null,
   "metadata": {},
   "outputs": [],
   "source": [
    "b_comp_x = b_position ⊗ b_positiony\n",
    "b_comp_p = b_momentum ⊗ b_momentumy\n",
    "\n",
    "Txp = transform(b_comp_x, b_comp_p)\n",
    "Tpx = transform(b_comp_p, b_comp_x);"
   ]
  },
  {
   "cell_type": "markdown",
   "metadata": {},
   "source": [
    "Thanks to these operators, we can specify the momentum operators in the respective `MomentumBasis`, where they are diagonal. Applying a diagonal operator is of course much more efficient."
   ]
  },
  {
   "cell_type": "code",
   "execution_count": null,
   "metadata": {},
   "outputs": [],
   "source": [
    "px = momentum(b_momentum)\n",
    "py = momentum(b_momentumy);"
   ]
  },
  {
   "cell_type": "markdown",
   "metadata": {},
   "source": [
    "Now that we have a composite basis, we can write each kinetic energy term in this composite basis. In order to keep the `FFTOperator` approach efficient, we will do this using lazy operations."
   ]
  },
  {
   "cell_type": "code",
   "execution_count": null,
   "metadata": {},
   "outputs": [],
   "source": [
    "Hkinx = LazyTensor(b_comp_p, [1, 2], [px^2/2, one(b_momentumy)])\n",
    "Hkiny = LazyTensor(b_comp_p, [1, 2], [one(b_momentum), py^2/2])\n",
    "\n",
    "Hkinx_FFT = LazyProduct(Txp, Hkinx, Tpx)\n",
    "Hkiny_FFT = LazyProduct(Txp, Hkiny, Tpx);"
   ]
  },
  {
   "cell_type": "markdown",
   "metadata": {},
   "source": [
    "Now we will add a two-dimensional potential. This can be easily done using the `potentialoperator` function which takes to arguments, a basis and a function describing the potential in space.\n",
    "\n",
    "**Note:** The function describing the potential has to fulfill two conditions:\n",
    "* The number of arguments must be equal to the number of bases constituting the composite basis.\n",
    "* The order of the function arguments must be the same as the order in the tensor product used to define the composite basis."
   ]
  },
  {
   "cell_type": "code",
   "execution_count": null,
   "metadata": {},
   "outputs": [],
   "source": [
    "potential(x,y) = exp(-(x^2 + y^2)/30.0)\n",
    "V = potentialoperator(b_comp_x, potential);"
   ]
  },
  {
   "cell_type": "markdown",
   "metadata": {},
   "source": [
    "Then one creates the full Hamiltonian simply by combining the kinetic and potential terms"
   ]
  },
  {
   "cell_type": "code",
   "execution_count": null,
   "metadata": {},
   "outputs": [],
   "source": [
    "H = LazySum(Hkinx_FFT, Hkiny_FFT, V);"
   ]
  },
  {
   "cell_type": "markdown",
   "metadata": {},
   "source": [
    "Now we will create a wavepacket in 2D and evolve it."
   ]
  },
  {
   "cell_type": "code",
   "execution_count": null,
   "metadata": {},
   "outputs": [],
   "source": [
    "x0 = -10\n",
    "y0 = -5\n",
    "p0_x = 1.5\n",
    "p0_y = 0.5\n",
    "σ = 2.0\n",
    "\n",
    "ψx = gaussianstate(b_position, x0, p0_x, σ)\n",
    "ψy = gaussianstate(b_positiony, y0, p0_y, σ)\n",
    "ψ = ψx ⊗ ψy\n",
    "\n",
    "T = collect(0.0:0.1:20.0)\n",
    "tout, ψt = timeevolution.schroedinger(T, ψ, H);"
   ]
  },
  {
   "cell_type": "code",
   "execution_count": null,
   "metadata": {},
   "outputs": [],
   "source": [
    "using LinearAlgebra\n",
    "density = [Array(transpose(reshape((abs2.(ψ.data)), (Npoints, Npointsy)))) for ψ=ψt]\n",
    "V_plot = Array(transpose(reshape(real.(diag(V.data)), (Npoints, Npointsy))))\n",
    "\n",
    "xsample, ysample = samplepoints(b_position), samplepoints(b_positiony)\n",
    "\n",
    "figure(figsize=(12, 10))\n",
    "subplot(221)\n",
    "contourf(xsample, ysample, density[1], cmap=\"hot\")\n",
    "contourf(xsample, ysample, V_plot, alpha=0.3, cmap=\"Greys\")\n",
    "annotate(xy=[25, 10], s=\"t=$(T[1])\", fontsize=20)\n",
    "\n",
    "subplot(222)\n",
    "contourf(xsample, ysample, density[50], cmap=\"hot\")\n",
    "contourf(xsample, ysample, V_plot, alpha=0.3, cmap=\"Greys\")\n",
    "annotate(xy=[25, 10], s=\"t=$(T[50])\", fontsize=20)\n",
    "\n",
    "subplot(223)\n",
    "contourf(xsample, ysample, density[80], cmap=\"hot\")\n",
    "contourf(xsample, ysample, V_plot, alpha=0.3, cmap=\"Greys\")\n",
    "annotate(xy=[25, 10], s=\"t=$(T[80])\", fontsize=20)\n",
    "\n",
    "subplot(224)\n",
    "contourf(xsample, ysample, density[150], cmap=\"hot\")\n",
    "contourf(xsample, ysample, V_plot, alpha=0.3, cmap=\"Greys\")\n",
    "annotate(xy=[25, 10], s=\"t=$(T[150])\", fontsize=20)\n",
    "\n",
    "tight_layout();"
   ]
  }
 ],
 "metadata": {
  "kernelspec": {
   "display_name": "Julia 0.7.0-beta2",
   "language": "julia",
   "name": "julia-0.7"
  },
  "language_info": {
   "file_extension": ".jl",
   "mimetype": "application/julia",
   "name": "julia",
   "version": "0.7.0"
  }
 },
 "nbformat": 4,
 "nbformat_minor": 2
}
