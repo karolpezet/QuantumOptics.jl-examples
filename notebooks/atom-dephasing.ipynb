{
 "cells": [
  {
   "cell_type": "markdown",
   "metadata": {},
   "source": [
    "*This notebook can be found on* [github](https://github.com/qojulia/QuantumOptics.jl-examples/tree/master/notebooks/atom-dephasing.ipynb)\n",
    "\n",
    "# Two-level atom driven by a noisy laser"
   ]
  },
  {
   "cell_type": "markdown",
   "metadata": {},
   "source": [
    "In this example, we will show how one can treat phase noise of a laser either with a stochastic Schrödinger equation or a deterministic Master equation.\n",
    "\n",
    "When a two-level atom is coherently driven by a laser, the laser is often assumed to be perfectly monochromatic. An atom addressed by such a coherent drive is described by the Hamiltonian (in a frame rotating at the laser frequency)\n",
    "\n",
    "$H = \\frac{\\Delta}{2}\\sigma^z + \\eta\\left(\\sigma^+ + \\sigma^-\\right),$\n",
    "\n",
    "where $\\Delta$ is the detuning between the laser and the atomic transition frequency. The operators $\\sigma^z, \\sigma^+, \\sigma^-$ are the atomic inversion, raising and lowering operators, respectively.\n",
    "\n",
    "This model holds for a perfectly monochromatic laser. However, in reality the laser will be subject to some noise which it will imprint on the atom. If the laser is subject to frequency noise, we can add a stochastic term in the Hamiltonian,\n",
    "\n",
    "$H^s = \\frac{1}{2}\\left(\\Delta + \\sqrt{\\gamma}\\xi(t)\\right)\\sigma^z + \\eta\\left(\\sigma^+ + \\sigma^-\\right).$\n",
    "\n",
    "Here, $\\sqrt{\\gamma}$ is the strength of the noise and $\\xi(t)$ is a white noise term, i.e. $\\langle \\xi(t)\\xi(t')\\rangle = \\delta(t-t')$.\n",
    "\n",
    "One can show, that when transforming the Von-Neumann equation with the Hamiltonian $H^s$ into Ito form and averaging over the noise, that the system can be modelled by the Master equation\n",
    "\n",
    "$\\dot{\\rho} = i[\\rho, H] + \\mathcal{L}[\\rho]$,\n",
    "\n",
    "where\n",
    "\n",
    "$\\mathcal{L}[\\rho] = \\frac{\\gamma}{8}\\left(2\\sigma^z\\rho\\sigma^z - \\left(\\sigma^z\\right)^2\\rho - \\rho\\left(\\sigma^z\\right)^2\\right) = \\frac{\\gamma}{2}\\left(\\sigma^z\\rho\\sigma^z - \\rho\\right)$.\n",
    "\n",
    "In the following, we will show this equivalence numerically, by first solving the stochastic Schrödinger equation with the Hamiltonian $H^s$ a number of times and then averaging. Afterwards we will solve the above master equation and compare the results."
   ]
  },
  {
   "cell_type": "markdown",
   "metadata": {},
   "source": [
    "First, we load the libraries we need."
   ]
  },
  {
   "cell_type": "code",
   "execution_count": null,
   "metadata": {},
   "outputs": [],
   "source": [
    "using QuantumOptics\n",
    "using PyPlot"
   ]
  },
  {
   "cell_type": "markdown",
   "metadata": {},
   "source": [
    "Then, we define the parameters and the basis of a single two-level atom as usual."
   ]
  },
  {
   "cell_type": "code",
   "execution_count": null,
   "metadata": {},
   "outputs": [],
   "source": [
    "# Parameters\n",
    "γ = 2.0\n",
    "η = 1.5\n",
    "Δ = 0.0\n",
    "T = [0:0.1:10;]\n",
    "\n",
    "# Basis and operators\n",
    "b1 = SpinBasis(1//2)\n",
    "sm = sigmam(b1)\n",
    "sp = sigmap(b1)\n",
    "sz = sigmaz(b1);"
   ]
  },
  {
   "cell_type": "markdown",
   "metadata": {},
   "source": [
    "Finally, we define the Hamiltonian. Note, that we need to split it into the deterministic and stochastic terms."
   ]
  },
  {
   "cell_type": "code",
   "execution_count": null,
   "metadata": {},
   "outputs": [],
   "source": [
    "# Deterministic part of the Hamiltonian\n",
    "H = 0.5Δ*sz + η*(sp + sm)\n",
    "\n",
    "# Stochastic part of the Hamiltonian\n",
    "Hs = 0.5*sqrt(γ)*sz;"
   ]
  },
  {
   "cell_type": "code",
   "execution_count": null,
   "metadata": {},
   "outputs": [],
   "source": [
    "# Initial state\n",
    "ψ0 = spindown(b1);"
   ]
  },
  {
   "cell_type": "markdown",
   "metadata": {},
   "source": [
    "Now we can calculate the stochastic time evolution using the Schrödinger equation. We define an output function `fout` that calculates the expectation value we want to plot in the end in order to avoid saving all the resulting states. Then we average over the number of trajectories `Ntraj`.\n",
    "\n",
    "Note, that an equation where we simply \"add\" a noise term has to be interpreted in the Stratonovich sense. This is why we need to switch to another algorithm of the **StochasticDiffEq** package. We use an adaptive time step method here, so the time step argument `dt` can be omitted."
   ]
  },
  {
   "cell_type": "code",
   "execution_count": null,
   "metadata": {},
   "outputs": [],
   "source": [
    "# Average over stochastic Schrödinger equations\n",
    "fout(t, psi) = real(expect(sz, psi))\n",
    "\n",
    "# Import StochasticDiffEq to use different algorithm\n",
    "import StochasticDiffEq\n",
    "\n",
    "Ntraj = 250\n",
    "z_avg = zero(T)\n",
    "for i=1:Ntraj\n",
    "    t, z = stochastic.schroedinger(T, ψ0, H, Hs; fout=fout, alg=StochasticDiffEq.RKMil{:Stratonovich}())\n",
    "    z_avg .+= z./Ntraj\n",
    "end"
   ]
  },
  {
   "cell_type": "markdown",
   "metadata": {},
   "source": [
    "Finally, we calculate the time evolution according to the corresponding master equation defined in the beginning."
   ]
  },
  {
   "cell_type": "code",
   "execution_count": null,
   "metadata": {},
   "outputs": [],
   "source": [
    "# Master equation with dephasing\n",
    "tout, z_master = timeevolution.master(T, ψ0, H, [sz]; rates=[0.25γ], fout=fout);"
   ]
  },
  {
   "cell_type": "markdown",
   "metadata": {},
   "source": [
    "Plotting, we see that both results are in very good agreement. The deviation between the two approaches stems from two sources:\n",
    "\n",
    "- The result of the master equation would correspond to the average over infinitely many trajectories.\n",
    "- The default absolute and relative error tolerances of the solver algorithm are `abstol=1e-3` and `reltol=1e-3`, respectively. This causes deviations at longer times which can be reduced by reducing the values of `abstol` and `reltol` sacrificing on the speed of the calculation. For details on step size control, please see the **DifferentialEquations.jl** documentation [here](http://docs.juliadiffeq.org/stable/)."
   ]
  },
  {
   "cell_type": "code",
   "execution_count": null,
   "metadata": {},
   "outputs": [],
   "source": [
    "figure(figsize=(6, 4))\n",
    "plot(tout, z_master, label=\"Master eq.\")\n",
    "plot(tout, z_avg, label=\"SSE\")\n",
    "axis([0, T[end], -1, 1])\n",
    "yticks([-1, 0, 1])\n",
    "xlabel(\"t\")\n",
    "ylabel(L\"\\langle\\sigma^z\\rangle\")\n",
    "legend();"
   ]
  }
 ],
 "metadata": {
  "kernelspec": {
   "display_name": "Julia 0.6.2",
   "language": "julia",
   "name": "julia-0.6"
  },
  "language_info": {
   "file_extension": ".jl",
   "mimetype": "application/julia",
   "name": "julia",
   "version": "0.6.3"
  }
 },
 "nbformat": 4,
 "nbformat_minor": 2
}
