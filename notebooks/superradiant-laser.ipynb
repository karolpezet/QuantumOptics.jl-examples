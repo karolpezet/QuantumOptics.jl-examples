{
 "cells": [
  {
   "cell_type": "markdown",
   "metadata": {},
   "source": [
    "*This notebook can be found on* [github](https://github.com/qojulia/QuantumOptics.jl-examples/tree/master/notebooks/superradiant-laser.ipynb)\n",
    "\n",
    "# Superradiant laser"
   ]
  },
  {
   "cell_type": "markdown",
   "metadata": {},
   "source": [
    "In this example we will show an approximate treatment of a superradiant laser. In general, a laser consists of an optical cavity containing an atomic gain medium. The Hamiltonian of this system is\n",
    "\n",
    "$H = \\Delta a^\\dagger a + g\\sum_j\\left(a^\\dagger \\sigma_j^- + a\\sigma_j^+\\right),$\n",
    "\n",
    "where $\\Delta = \\omega_\\mathrm{c} - \\omega_\\mathrm{a}$ is the detuning between the cavity resonance frequency $\\omega_\\mathrm{c}$ and the atomic transition frequency $\\omega_\\mathrm{a}$. Note, that we assumed that all atoms couple equally to the cavity mode. This allows us to move to a collective basis by defining\n",
    "\n",
    "$S^\\pm = \\sum_j\\sigma_j^\\pm,$\n",
    "\n",
    "such that the Hamiltonian becomes\n",
    "\n",
    "$H = \\Delta a^\\dagger a + g\\left(a^\\dagger S^- + aS^+\\right).$\n",
    "\n",
    "This also means that the Hamiltonian conserves symmetry. Thus, if we start in a state that is symmetric under particle exchange (e.g. no photons and all atoms in the ground state), the Hamiltonian will never cause the state to leave the symmetric subspace. This allows us to project the operators $S^\\pm$ onto the symmetric subspace. Overall, the $N$ two-level atoms then behave like one $N/2$-spin particle, effectively reducing the size of our Hilbert space from $2^N$ to $N+1$.\n",
    "\n",
    "Furthermore, we assume that the spontaneous emission of the atoms is also collective,\n",
    "\n",
    "$ \\mathcal{L}_\\gamma[\\rho] = \\frac{1}{2}\\sum_{i,j}\\gamma_{ij}\\left(2\\sigma_i^-\\rho\\sigma_j^+ - \\sigma_i^+\\sigma_j^-\\rho - \\rho\\sigma_i^+\\sigma_j^-\\right).$\n",
    "\n",
    "If the spontaneous emission is superradiant, i.e. $\\gamma_{ij}=\\gamma$ it also conserves symmetry. The corresponding Lindblad term can be written as\n",
    "\n",
    "$\\mathcal{L}_\\gamma[\\rho] = \\frac{\\gamma}{2}\\left(2S^-\\rho S^+ - S^+S^-\\rho - \\rho S^+S^-\\right).$\n",
    "\n",
    "The cavity decay is included by the familiar term\n",
    "\n",
    "$\\mathcal{L}_\\kappa[\\rho] = \\frac{\\kappa}{2}\\left(2a\\rho a^\\dagger - a^\\dagger a \\rho - \\rho a^\\dagger a\\right).$\n",
    "\n",
    "The last ingredient we need in order for a lasing process to occur is population inversion. This requires an irreversible process from the atomic ground to the excited state. Assuming that this process is of collective nature as well, we may model it by an effective pump rate which corresponds to spontaneous emission from the ground to the excited state,\n",
    "\n",
    "$\\mathcal{L}_R[\\rho] = \\frac{R}{2}\\left(2S^+\\rho S^- - S^-S^+\\rho - \\rho S^-S^+\\right).$\n",
    "\n",
    "We therefore see that the overall system conserves symmetry. Modelling the atoms as spin-$N/2$ particle is then justified."
   ]
  },
  {
   "cell_type": "markdown",
   "metadata": {},
   "source": [
    "In order to implement this model in **QuantumOptics**, we proceed as usual. First we load the libraries."
   ]
  },
  {
   "cell_type": "code",
   "execution_count": null,
   "metadata": {},
   "outputs": [],
   "source": [
    "using QuantumOptics\n",
    "using PyPlot\n",
    "using LinearAlgebra"
   ]
  },
  {
   "cell_type": "markdown",
   "metadata": {},
   "source": [
    "Then we define the parameters we want to use in our system. Note, that a superradiant laser operates in the bad-cavity regime where $\\gamma,g \\ll \\kappa$."
   ]
  },
  {
   "cell_type": "code",
   "execution_count": null,
   "metadata": {},
   "outputs": [],
   "source": [
    "# Parameters\n",
    "N_cutoff=10 #photon cutoff\n",
    "N_atoms=6 #number of atoms\n",
    "γ=1.0     #decay rate\n",
    "Δ=0     #detuning\n",
    "g=10γ    #coupling to the cavity\n",
    "R=9γ    #pump rate\n",
    "κ=40γ;    #rate of loss of photons from the cavity"
   ]
  },
  {
   "cell_type": "markdown",
   "metadata": {},
   "source": [
    "With these parameters we can build the Hilbert space and basic operators accordingly. Note, that as discussed above we use a basis corresponding to an $N/2$-spin for the atoms."
   ]
  },
  {
   "cell_type": "code",
   "execution_count": null,
   "metadata": {},
   "outputs": [],
   "source": [
    "# Bases\n",
    "b_fock=FockBasis(N_cutoff) \n",
    "b_spin=SpinBasis(N_atoms//2)\n",
    "\n",
    "# Fundamental operators\n",
    "a = destroy(b_fock)\n",
    "at = create(b_fock)\n",
    "n = number(b_fock)     \n",
    "\n",
    "sm = sigmam(b_spin)   \n",
    "sp = sigmap(b_spin)    \n",
    "sz = sigmaz(b_spin);"
   ]
  },
  {
   "cell_type": "markdown",
   "metadata": {},
   "source": [
    "This allows us to build the Hamiltonian in a straightforward way."
   ]
  },
  {
   "cell_type": "code",
   "execution_count": null,
   "metadata": {},
   "outputs": [],
   "source": [
    "# Jaynes-Cummings-Hamiltonian\n",
    "H0 = Δ*n\n",
    "Hint = g*(at ⊗ sm + a ⊗ sp)\n",
    "H = H0 ⊗ one(b_spin) + Hint;  "
   ]
  },
  {
   "cell_type": "markdown",
   "metadata": {},
   "source": [
    "Now, we define an initial state where there are no photons inside the cavity and all atoms are in the ground state. With a given list of times, and the decay operators we can then compute the time evolution according to a master equation."
   ]
  },
  {
   "cell_type": "code",
   "execution_count": null,
   "metadata": {},
   "outputs": [],
   "source": [
    "# Initial state\n",
    "Ψ0 = fockstate(b_fock, 0) ⊗ spindown(b_spin)\n",
    "\n",
    "# Time interval\n",
    "T_end=1\n",
    "dt=0.01\n",
    "T = [0:dt:T_end;]\n",
    "\n",
    "# Collapse operators and decay rates\n",
    "J=[one(b_fock) ⊗ sm, one(b_fock) ⊗ sp, a ⊗ one(b_spin)]\n",
    "rates = [γ, R, κ]\n",
    "\n",
    "# Time evolution according to a master equation\n",
    "tout, ρt = timeevolution.master(T, Ψ0, H, J; rates=rates);"
   ]
  },
  {
   "cell_type": "markdown",
   "metadata": {},
   "source": [
    "From the density matrix at all points in time `ρt` we can compute physical properties of our system. For example, we can calculate the expectation values corresponding to the cavity photon number and the atomic inversion, respectively."
   ]
  },
  {
   "cell_type": "code",
   "execution_count": null,
   "metadata": {
    "scrolled": false
   },
   "outputs": [],
   "source": [
    "# Photon number and inversion\n",
    "exp_n_master= real(expect(n ⊗ one(b_spin), ρt))\n",
    "exp_sz_master = real(expect(one(b_fock) ⊗ sz, ρt));\n",
    "\n",
    "# Plot results\n",
    "figure(figsize=(9, 3))\n",
    "subplot(121)\n",
    "ylim([0, N_cutoff])\n",
    "plot(T, exp_n_master);\n",
    "xlabel(L\"\\gamma t\")\n",
    "ylabel(L\"\\langle n \\rangle\")\n",
    "\n",
    "subplot(122)\n",
    "ylim([-N_atoms, N_atoms])\n",
    "plot(T, exp_sz_master);\n",
    "xlabel(L\"\\gamma t\")\n",
    "ylabel(L\"\\langle S_z \\rangle\")\n",
    "\n",
    "tight_layout()"
   ]
  },
  {
   "cell_type": "markdown",
   "metadata": {},
   "source": [
    "We can see that there is only a moderate number of photons inside the cavity, even though population inversion is achieved. This is a characteristic of a superradiant laser: the coherence is stored in the atomic gain medium rather than the cavity field.\n",
    "\n",
    "This can be also seen when looking at the photon number distribution of the state at the end of the time evolution. The distribution is given by the diagonal of the reduced density matrix of the field $\\rho_f = \\mathrm{tr}_a(\\rho)$, where we take the partial trace over the atomic Hilbert space."
   ]
  },
  {
   "cell_type": "code",
   "execution_count": null,
   "metadata": {
    "scrolled": true
   },
   "outputs": [],
   "source": [
    "# Photon number distribution\n",
    "figure(figsize=(9,3))\n",
    "ρ_end=ptrace(ρt[end], 2)\n",
    "N=[0:1:N_cutoff;]\n",
    "p_n=real(diag(ρ_end.data))\n",
    "bar(N, p_n, label=\"photon number distribution\")\n",
    "legend()\n",
    "xlabel(\"n\")\n",
    "ylabel(L\"P(n)\");"
   ]
  },
  {
   "cell_type": "markdown",
   "metadata": {},
   "source": [
    "We see that, even though higher photon states are populated, the largest amount of population is in the vacuum state. Note, that this distribution also serves as a check of our cut-off: the amount of population in the state with `N_cutoff` photons is negligible, which tells us that the choice of the cut-off is sufficient."
   ]
  },
  {
   "cell_type": "markdown",
   "metadata": {},
   "source": [
    "Another thing of interest is the spectrum of the laser: it tells us at which frequencies the cavity emits light. The specturm is computed as the Fourier transform of the steady-state correlation function\n",
    "\n",
    "$g(\\tau) = \\langle a^\\dagger(\\tau) a\\rangle.$\n",
    "\n",
    "This may be computed by defining a density operator $\\bar{\\rho}=a\\rho(t_\\mathrm{end})$ and calculation $\\bar{\\rho}(\\tau)$. The correlation function is then given by $g(\\tau)=\\langle a^\\dagger \\rangle_{\\bar{\\rho}(\\tau)}$."
   ]
  },
  {
   "cell_type": "code",
   "execution_count": null,
   "metadata": {},
   "outputs": [],
   "source": [
    "# Spectrum\n",
    "ρ_bar= (a ⊗ one(b_spin))*ρt[end] \n",
    "τ_end=10\n",
    "τ=collect(range(0.0, stop=τ_end, length=2^12))\n",
    "τout, ρ_bar_τ=timeevolution.master(τ, ρ_bar, H, J; rates=rates) \n",
    "g_τ=expect(at ⊗ one(b_spin), ρ_bar_τ)\n",
    "ω, spec = timecorrelations.correlation2spectrum(τ, g_τ; normalize_spec=true);\n",
    "plot(ω, spec)\n",
    "xlabel(L\"\\omega/\\gamma\")\n",
    "ylabel(\"Intensity\")\n",
    "ylim(-0.1, 1.1)\n",
    "xlim(-100, 100)\n",
    "grid();"
   ]
  },
  {
   "cell_type": "markdown",
   "metadata": {},
   "source": [
    "From the spectrum we see that the cavity emits light around the atomic and cavity resonance. The FWHM of the peak is well below the cavity linewidth $\\kappa$."
   ]
  },
  {
   "cell_type": "markdown",
   "metadata": {},
   "source": [
    "Finally, we can look at the distribution of the field in phase space via the Husimi-Q quasi-probability function. We see that the system remains phase-invariant since it its Q-Function is spherical symmetric."
   ]
  },
  {
   "cell_type": "code",
   "execution_count": null,
   "metadata": {},
   "outputs": [],
   "source": [
    "xvec=[-5:0.1:5;];\n",
    "yvec=[-5:0.1:5;];\n",
    "\n",
    "#Husimi Q-function\n",
    "Q=qfunc(ρ_end, xvec, yvec)\n",
    "contourf(xvec,yvec,Q)\n",
    "axis(\"square\")\n",
    "ylabel(L\"\\mathrm{Im}\\{\\alpha\\}\")\n",
    "xlabel(L\"\\mathrm{Re}\\{\\alpha\\}\");"
   ]
  }
 ],
 "metadata": {
  "@webio": {
   "lastCommId": null,
   "lastKernelId": null
  },
  "kernelspec": {
   "display_name": "Julia 1.1.1",
   "language": "julia",
   "name": "julia-1.1"
  },
  "language_info": {
   "file_extension": ".jl",
   "mimetype": "application/julia",
   "name": "julia",
   "version": "1.1.1"
  }
 },
 "nbformat": 4,
 "nbformat_minor": 2
}
