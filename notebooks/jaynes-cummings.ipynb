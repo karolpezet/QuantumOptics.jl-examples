{
 "cells": [
  {
   "cell_type": "markdown",
   "metadata": {},
   "source": [
    "*This notebook can be found on* [github](https://github.com/qojulia/QuantumOptics.jl-examples/tree/master/notebooks/jaynes-cummings.ipynb)\n",
    "\n",
    "# Jaynes-Cummings model"
   ]
  },
  {
   "cell_type": "markdown",
   "metadata": {},
   "source": [
    "The [Jaynes Cummings model](https://en.wikipedia.org/wiki/Jaynes%E2%80%93Cummings_model) is a famous theoretical model in the field of quantum optics. It describes a two level atom coupled to a quantized mode of a cavity.\n",
    "\n",
    "$H = \\omega_c a^\\dagger a + \\frac{\\omega_a}{2} \\sigma_z + \\Omega (a \\sigma_+ + a^\\dagger \\sigma_-)$\n"
   ]
  },
  {
   "cell_type": "markdown",
   "metadata": {},
   "source": [
    "The first step is always to import the library"
   ]
  },
  {
   "cell_type": "code",
   "execution_count": null,
   "metadata": {},
   "outputs": [],
   "source": [
    "using QuantumOptics\n",
    "using PyPlot"
   ]
  },
  {
   "cell_type": "markdown",
   "metadata": {},
   "source": [
    "Then we can define all the necessary parameters"
   ]
  },
  {
   "cell_type": "code",
   "execution_count": null,
   "metadata": {},
   "outputs": [],
   "source": [
    "# Parameters\n",
    "N_cutoff = 10\n",
    "\n",
    "ωc = 0.1\n",
    "ωa = 0.1\n",
    "Ω = 1.;"
   ]
  },
  {
   "cell_type": "markdown",
   "metadata": {},
   "source": [
    "Describe the Fock Hilbert space and the Spin Hilbert space by choosing the appropriate bases"
   ]
  },
  {
   "cell_type": "code",
   "execution_count": null,
   "metadata": {},
   "outputs": [],
   "source": [
    "# Bases\n",
    "b_fock = FockBasis(N_cutoff)\n",
    "b_spin = SpinBasis(1//2)\n",
    "b = b_fock ⊗ b_spin;"
   ]
  },
  {
   "cell_type": "markdown",
   "metadata": {},
   "source": [
    "With the help of these bases build up the Jaynes-Cummings Hamiltonian"
   ]
  },
  {
   "cell_type": "code",
   "execution_count": null,
   "metadata": {},
   "outputs": [],
   "source": [
    "# Fundamental operators\n",
    "a = destroy(b_fock)\n",
    "at = create(b_fock)\n",
    "n = number(b_fock)\n",
    "\n",
    "sm = sigmam(b_spin)\n",
    "sp = sigmap(b_spin)\n",
    "sz = sigmaz(b_spin)\n",
    "\n",
    "# Hamiltonian\n",
    "Hatom = ωa*sz/2\n",
    "Hfield = ωc*n\n",
    "Hint = Ω*(at⊗sm + a⊗sp)\n",
    "H = one(b_fock)⊗Hatom + Hfield⊗one(b_spin) + Hint;"
   ]
  },
  {
   "cell_type": "markdown",
   "metadata": {},
   "source": [
    "The time evolution of the system is governed by a Schroedinger equation."
   ]
  },
  {
   "cell_type": "code",
   "execution_count": null,
   "metadata": {},
   "outputs": [],
   "source": [
    "# Initial state\n",
    "α = 1.\n",
    "Ψ0 = coherentstate(b_fock, α) ⊗ spindown(b_spin)\n",
    "\n",
    "# Integration time\n",
    "T = [0:0.1:20;]\n",
    "\n",
    "# Schroedinger time evolution\n",
    "tout, Ψt = timeevolution.schroedinger(T, Ψ0, H);"
   ]
  },
  {
   "cell_type": "markdown",
   "metadata": {},
   "source": [
    "The integration routine returns two objects - a vector containing points of time where output was generated (which will in most cases be the same as the given input time vector) and a vector containing the state of the quantum system at these points in time. These can further on be used to calculate expectation values."
   ]
  },
  {
   "cell_type": "code",
   "execution_count": null,
   "metadata": {},
   "outputs": [],
   "source": [
    "exp_n = real(expect(n ⊗ one(b_spin), Ψt))\n",
    "exp_sz = real(expect(one(b_fock) ⊗ sz, Ψt));"
   ]
  },
  {
   "cell_type": "markdown",
   "metadata": {},
   "source": [
    "Finally we can us [matplotlib](http://matplotlib.org/) to visualize the the time evolution of the calculated expectation values "
   ]
  },
  {
   "cell_type": "code",
   "execution_count": null,
   "metadata": {},
   "outputs": [],
   "source": [
    "figure(figsize=(9,3))\n",
    "subplot(1,2,1)\n",
    "ylim([0, 2])\n",
    "plot(T, exp_n);\n",
    "xlabel(L\"T\")\n",
    "ylabel(L\"\\langle n \\rangle\")\n",
    "\n",
    "subplot(1,2,2)\n",
    "ylim([-1, 1])\n",
    "plot(T, exp_sz);\n",
    "xlabel(L\"T\")\n",
    "ylabel(L\"\\langle \\sigma_z \\rangle\")\n",
    "\n",
    "tight_layout();"
   ]
  },
  {
   "cell_type": "markdown",
   "metadata": {},
   "source": [
    "## Lossy Jaynes-Cummings model\n",
    "\n",
    "The Jaynes-Cummings model can be expanded by giving the 2 level atom a finite spontenous decay rate $\\gamma$. The system is then a open quantum system which is described by a master equation of the form\n",
    "\n",
    "$$\n",
    "    \\dot{\\rho} = -\\frac{i}{\\hbar} \\big[H,\\rho\\big]\n",
    "                 + \\sum_i \\big(\n",
    "                        J_i \\rho J_i^\\dagger\n",
    "                        - \\frac{1}{2} J_i^\\dagger J_i \\rho\n",
    "                        - \\frac{1}{2} \\rho J_i^\\dagger J_i\n",
    "                    \\big)\n",
    "$$\n",
    "\n",
    "where in this case there is only one jump operator $J=\\sqrt{\\gamma} \\sigma_-$."
   ]
  },
  {
   "cell_type": "code",
   "execution_count": null,
   "metadata": {},
   "outputs": [],
   "source": [
    "γ = 0.5\n",
    "J = [sqrt(γ)*identityoperator(b_fock) ⊗ sm];"
   ]
  },
  {
   "cell_type": "code",
   "execution_count": null,
   "metadata": {},
   "outputs": [],
   "source": [
    "# Master\n",
    "tout, ρt = timeevolution.master(T, Ψ0, H, J)\n",
    "exp_n_master = real(expect(n ⊗ one(b_spin), ρt))\n",
    "exp_sz_master = real(expect(one(b_fock) ⊗ sz, ρt))\n",
    "\n",
    "figure(figsize=(9,3))\n",
    "subplot(1,2,1)\n",
    "ylim([0, 2])\n",
    "plot(T, exp_n_master);\n",
    "xlabel(L\"T\")\n",
    "ylabel(L\"\\langle n \\rangle\")\n",
    "\n",
    "subplot(1,2,2)\n",
    "ylim([-1, 1])\n",
    "plot(T, exp_sz_master);\n",
    "xlabel(L\"T\")\n",
    "ylabel(L\"\\langle \\sigma_z \\rangle\");\n",
    "\n",
    "tight_layout();"
   ]
  },
  {
   "cell_type": "markdown",
   "metadata": {},
   "source": [
    "Alternatively we can solve the system using the Monte Carlo wave function formalism. A single trajectory shows characteristic jumps in the expectation values."
   ]
  },
  {
   "cell_type": "code",
   "execution_count": null,
   "metadata": {
    "scrolled": true
   },
   "outputs": [],
   "source": [
    "# Monte Carlo wave function\n",
    "tout, Ψt = timeevolution.mcwf(T, Ψ0, H, J; seed=2,\n",
    "                                display_beforeevent=true,\n",
    "                                display_afterevent=true)\n",
    "exp_n_mcwf = real(expect(n ⊗ one(b_spin), Ψt))\n",
    "exp_sz_mcwf = real(expect(one(b_fock) ⊗ sz, Ψt))\n",
    "\n",
    "figure(figsize=(9,3))\n",
    "subplot(1,2,1)\n",
    "ylim([0, 2])\n",
    "plot(tout, exp_n_mcwf)\n",
    "xlabel(L\"T\")\n",
    "ylabel(L\"\\langle n \\rangle\")\n",
    "\n",
    "subplot(1,2,2)\n",
    "ylim([-1, 1])\n",
    "plot(tout, exp_sz_mcwf)\n",
    "xlabel(L\"T\")\n",
    "ylabel(L\"\\langle \\sigma_z \\rangle\");\n",
    "\n",
    "tight_layout();"
   ]
  },
  {
   "cell_type": "markdown",
   "metadata": {},
   "source": [
    "For large number of trajectories the statistical average of the MCWF trajectories approaches the solution of the master equation."
   ]
  },
  {
   "cell_type": "code",
   "execution_count": null,
   "metadata": {},
   "outputs": [],
   "source": [
    "Ntrajectories = 10\n",
    "exp_n_average = zeros(Float64, length(T))\n",
    "exp_sz_average = zeros(Float64, length(T))\n",
    "\n",
    "for i = 1:Ntrajectories\n",
    "    t_tmp, ψ = timeevolution.mcwf(T, Ψ0, H, J; seed=i)\n",
    "    exp_n_average .+= real(expect(n ⊗ one(b_spin), ψ))\n",
    "    exp_sz_average .+= real(expect(one(b_fock) ⊗ sz, ψ))\n",
    "end\n",
    "\n",
    "exp_n_average ./= Ntrajectories\n",
    "exp_sz_average ./= Ntrajectories\n",
    "\n",
    "figure(figsize=(9,3))\n",
    "subplot(1,2,1)\n",
    "ylim([0, 2])\n",
    "plot(T, exp_n_master)\n",
    "plot(T, exp_n_average)\n",
    "xlabel(L\"T\")\n",
    "ylabel(L\"\\langle n \\rangle\")\n",
    "\n",
    "subplot(1,2,2)\n",
    "ylim([-1, 1])\n",
    "plot(T, exp_sz_master)\n",
    "plot(T, exp_sz_average)\n",
    "xlabel(L\"T\")\n",
    "ylabel(L\"\\langle \\sigma_z \\rangle\");\n",
    "\n",
    "tight_layout()\n",
    "show()"
   ]
  }
 ],
 "metadata": {
  "kernelspec": {
   "display_name": "Julia 0.7.0-beta2",
   "language": "julia",
   "name": "julia-0.7"
  },
  "language_info": {
   "file_extension": ".jl",
   "mimetype": "application/julia",
   "name": "julia",
   "version": "0.7.0"
  }
 },
 "nbformat": 4,
 "nbformat_minor": 1
}
